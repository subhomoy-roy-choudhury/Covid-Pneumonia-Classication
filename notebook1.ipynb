{
 "cells": [
  {
   "cell_type": "code",
   "execution_count": 20,
   "metadata": {},
   "outputs": [],
   "source": [
    "import keras,os\n",
    "from keras.models import Sequential\n",
    "from keras.layers import Dense, Conv2D, MaxPool2D , Flatten\n",
    "from keras.layers.core import Flatten, Dense, Dropout\n",
    "from keras.layers.convolutional import Convolution2D, MaxPooling2D, ZeroPadding2D\n",
    "from keras.preprocessing.image import ImageDataGenerator\n",
    "import numpy as np\n",
    "from keras.optimizers import Adam\n",
    "from glob import glob\n",
    "import matplotlib.pyplot as plt"
   ]
  },
  {
   "cell_type": "code",
   "execution_count": 21,
   "metadata": {},
   "outputs": [],
   "source": [
    "train_path = 'Datasets/train'\n",
    "valid_path = 'Datasets/test'\n",
    "folders = glob('Datasets/train/*')"
   ]
  },
  {
   "cell_type": "code",
   "execution_count": 22,
   "metadata": {},
   "outputs": [
    {
     "name": "stdout",
     "output_type": "stream",
     "text": [
      "Model: \"sequential\"\n",
      "_________________________________________________________________\n",
      "Layer (type)                 Output Shape              Param #   \n",
      "=================================================================\n",
      "conv2d (Conv2D)              (None, 222, 222, 32)      896       \n",
      "_________________________________________________________________\n",
      "max_pooling2d (MaxPooling2D) (None, 111, 111, 32)      0         \n",
      "_________________________________________________________________\n",
      "conv2d_1 (Conv2D)            (None, 109, 109, 32)      9248      \n",
      "_________________________________________________________________\n",
      "max_pooling2d_1 (MaxPooling2 (None, 54, 54, 32)        0         \n",
      "_________________________________________________________________\n",
      "conv2d_2 (Conv2D)            (None, 52, 52, 32)        9248      \n",
      "_________________________________________________________________\n",
      "max_pooling2d_2 (MaxPooling2 (None, 26, 26, 32)        0         \n",
      "_________________________________________________________________\n",
      "conv2d_3 (Conv2D)            (None, 24, 24, 64)        18496     \n",
      "_________________________________________________________________\n",
      "max_pooling2d_3 (MaxPooling2 (None, 12, 12, 64)        0         \n",
      "_________________________________________________________________\n",
      "conv2d_4 (Conv2D)            (None, 10, 10, 64)        36928     \n",
      "_________________________________________________________________\n",
      "max_pooling2d_4 (MaxPooling2 (None, 5, 5, 64)          0         \n",
      "_________________________________________________________________\n",
      "flatten (Flatten)            (None, 1600)              0         \n",
      "_________________________________________________________________\n",
      "dense (Dense)                (None, 4096)              6557696   \n",
      "_________________________________________________________________\n",
      "dense_1 (Dense)              (None, 4096)              16781312  \n",
      "_________________________________________________________________\n",
      "dense_2 (Dense)              (None, 3)                 12291     \n",
      "=================================================================\n",
      "Total params: 23,426,115\n",
      "Trainable params: 23,426,115\n",
      "Non-trainable params: 0\n",
      "_________________________________________________________________\n"
     ]
    }
   ],
   "source": [
    "model = Sequential()\n",
    "model.add(Conv2D(32, (3, 3), activation=\"relu\", input_shape=(224, 224, 3)))\n",
    "model.add(MaxPooling2D(pool_size = (2, 2)))\n",
    "model.add(Conv2D(32, (3, 3), activation=\"relu\", input_shape=(224, 224, 3)))\n",
    "model.add(MaxPooling2D(pool_size = (2, 2)))\n",
    "model.add(Conv2D(32, (3, 3), activation=\"relu\", input_shape=(224, 224, 3)))\n",
    "model.add(MaxPooling2D(pool_size = (2, 2)))\n",
    "model.add(Conv2D(64, (3, 3), activation=\"relu\", input_shape=(224, 224, 3)))\n",
    "model.add(MaxPooling2D(pool_size = (2, 2)))\n",
    "model.add(Conv2D(64, (3, 3), activation=\"relu\", input_shape=(224, 224, 3)))\n",
    "model.add(MaxPooling2D(pool_size = (2, 2)))\n",
    "\n",
    "model.add(Flatten())\n",
    "model.add(Dense(units=4096,activation=\"relu\"))\n",
    "model.add(Dense(units=4096,activation=\"relu\"))\n",
    "model.add(Dense(units=len(folders), activation=\"softmax\"))\n",
    "\n",
    "opt = Adam(lr=0.001)\n",
    "model.compile(optimizer=opt, loss = 'categorical_crossentropy', metrics=['accuracy'])\n",
    "model.summary()"
   ]
  },
  {
   "cell_type": "code",
   "execution_count": 23,
   "metadata": {},
   "outputs": [
    {
     "name": "stdout",
     "output_type": "stream",
     "text": [
      "Found 5725 images belonging to 3 classes.\n",
      "Found 680 images belonging to 3 classes.\n"
     ]
    }
   ],
   "source": [
    "# Use the Image Data Generator to import the images from the dataset\n",
    "\n",
    "train_datagen = ImageDataGenerator(rescale = 1./255,\n",
    "                                   shear_range = 0.2,\n",
    "                                   zoom_range = 0.2,\n",
    "                                   horizontal_flip = True)\n",
    "\n",
    "test_datagen = ImageDataGenerator(rescale = 1./255)\n",
    "\n",
    "# Make sure you provide the same target size as initialied for the image size\n",
    "training_set = train_datagen.flow_from_directory('Datasets/train',\n",
    "                                                 target_size = (224, 224),\n",
    "                                                 batch_size = 32,\n",
    "                                                 class_mode = 'categorical')\n",
    "\n",
    "\n",
    "test_set = test_datagen.flow_from_directory('Datasets/test',\n",
    "                                            target_size = (224, 224),\n",
    "                                            batch_size = 32,\n",
    "                                            class_mode = 'categorical')                                            \n"
   ]
  },
  {
   "cell_type": "code",
   "execution_count": 6,
   "metadata": {},
   "outputs": [
    {
     "name": "stdout",
     "output_type": "stream",
     "text": [
      "Epoch 1/5\n",
      "179/179 [==============================] - 299s 2s/step - loss: 0.7676 - accuracy: 0.6902 - val_loss: 0.6417 - val_accuracy: 0.7559\n",
      "Epoch 2/5\n",
      "179/179 [==============================] - 322s 2s/step - loss: 0.3288 - accuracy: 0.8716 - val_loss: 0.3354 - val_accuracy: 0.8750\n",
      "Epoch 3/5\n",
      "179/179 [==============================] - 309s 2s/step - loss: 0.2646 - accuracy: 0.9009 - val_loss: 0.2941 - val_accuracy: 0.9059\n",
      "Epoch 4/5\n",
      "179/179 [==============================] - 321s 2s/step - loss: 0.2382 - accuracy: 0.9060 - val_loss: 0.2950 - val_accuracy: 0.8971\n",
      "Epoch 5/5\n",
      "179/179 [==============================] - 274s 2s/step - loss: 0.2041 - accuracy: 0.9234 - val_loss: 0.2464 - val_accuracy: 0.9162\n"
     ]
    }
   ],
   "source": [
    "r = model.fit(\n",
    "  training_set,\n",
    "  validation_data=test_set,\n",
    "  epochs=5,\n",
    "  steps_per_epoch=len(training_set),\n",
    "  validation_steps=len(test_set)\n",
    ")\n"
   ]
  },
  {
   "cell_type": "code",
   "execution_count": 24,
   "metadata": {},
   "outputs": [
    {
     "ename": "NameError",
     "evalue": "name 'r' is not defined",
     "output_type": "error",
     "traceback": [
      "\u001b[1;31m---------------------------------------------------------------------------\u001b[0m",
      "\u001b[1;31mNameError\u001b[0m                                 Traceback (most recent call last)",
      "\u001b[1;32m<ipython-input-24-a22f339bdbb9>\u001b[0m in \u001b[0;36m<module>\u001b[1;34m\u001b[0m\n\u001b[0;32m      1\u001b[0m \u001b[1;31m# plotting training set and validation test\u001b[0m\u001b[1;33m\u001b[0m\u001b[1;33m\u001b[0m\u001b[1;33m\u001b[0m\u001b[0m\n\u001b[1;32m----> 2\u001b[1;33m \u001b[0mplt\u001b[0m\u001b[1;33m.\u001b[0m\u001b[0mplot\u001b[0m\u001b[1;33m(\u001b[0m\u001b[0mr\u001b[0m\u001b[1;33m.\u001b[0m\u001b[0mhistory\u001b[0m\u001b[1;33m[\u001b[0m\u001b[1;34m'loss'\u001b[0m\u001b[1;33m]\u001b[0m\u001b[1;33m)\u001b[0m\u001b[1;33m\u001b[0m\u001b[1;33m\u001b[0m\u001b[0m\n\u001b[0m\u001b[0;32m      3\u001b[0m \u001b[0mplt\u001b[0m\u001b[1;33m.\u001b[0m\u001b[0mplot\u001b[0m\u001b[1;33m(\u001b[0m\u001b[0mr\u001b[0m\u001b[1;33m.\u001b[0m\u001b[0mhistory\u001b[0m\u001b[1;33m[\u001b[0m\u001b[1;34m'val_loss'\u001b[0m\u001b[1;33m]\u001b[0m\u001b[1;33m)\u001b[0m\u001b[1;33m\u001b[0m\u001b[1;33m\u001b[0m\u001b[0m\n\u001b[0;32m      4\u001b[0m \u001b[0mplt\u001b[0m\u001b[1;33m.\u001b[0m\u001b[0mtitle\u001b[0m\u001b[1;33m(\u001b[0m\u001b[1;34m'model loss'\u001b[0m\u001b[1;33m)\u001b[0m\u001b[1;33m\u001b[0m\u001b[1;33m\u001b[0m\u001b[0m\n\u001b[0;32m      5\u001b[0m \u001b[0mplt\u001b[0m\u001b[1;33m.\u001b[0m\u001b[0mylabel\u001b[0m\u001b[1;33m(\u001b[0m\u001b[1;34m'loss'\u001b[0m\u001b[1;33m)\u001b[0m\u001b[1;33m\u001b[0m\u001b[1;33m\u001b[0m\u001b[0m\n",
      "\u001b[1;31mNameError\u001b[0m: name 'r' is not defined"
     ]
    }
   ],
   "source": [
    "# plotting training set and validation test \n",
    "plt.plot(r.history['loss'])\n",
    "plt.plot(r.history['val_loss'])\n",
    "plt.title('model loss')\n",
    "plt.ylabel('loss')\n",
    "plt.xlabel('epoch')\n",
    "plt.legend(['train', 'test'], loc='upper left')\n",
    "plt.savefig('TRAIN_VAL_1.png')\n",
    "plt.show()\n",
    "\n",
    "# plot the loss\n",
    "plt.plot(r.history['loss'], label='train loss')\n",
    "plt.plot(r.history['val_loss'], label='val loss')\n",
    "plt.legend(['train', 'test'], loc='upper left')\n",
    "plt.savefig('LossVal_loss_1.png')\n",
    "plt.show()\n",
    "\n",
    "# plot the accuracy\n",
    "plt.plot(r.history['accuracy'], label='train acc')\n",
    "plt.plot(r.history['val_accuracy'], label='val acc')\n",
    "plt.legend(['train', 'test'], loc='upper left')\n",
    "plt.savefig('AccVal_acc_1.png')\n",
    "plt.show()"
   ]
  },
  {
   "cell_type": "code",
   "execution_count": 19,
   "metadata": {},
   "outputs": [
    {
     "ename": "NameError",
     "evalue": "name 'model' is not defined",
     "output_type": "error",
     "traceback": [
      "\u001b[1;31m---------------------------------------------------------------------------\u001b[0m",
      "\u001b[1;31mNameError\u001b[0m                                 Traceback (most recent call last)",
      "\u001b[1;32m<ipython-input-19-bdf8d3330f6d>\u001b[0m in \u001b[0;36m<module>\u001b[1;34m\u001b[0m\n\u001b[1;32m----> 1\u001b[1;33m \u001b[0mmodel\u001b[0m\u001b[1;33m.\u001b[0m\u001b[0msave\u001b[0m\u001b[1;33m(\u001b[0m\u001b[1;34m'model_vgg16.h5'\u001b[0m\u001b[1;33m)\u001b[0m\u001b[1;33m\u001b[0m\u001b[1;33m\u001b[0m\u001b[0m\n\u001b[0m",
      "\u001b[1;31mNameError\u001b[0m: name 'model' is not defined"
     ]
    }
   ],
   "source": [
    "model.save('model_vgg16.h5')"
   ]
  },
  {
   "cell_type": "code",
   "execution_count": 25,
   "metadata": {},
   "outputs": [],
   "source": [
    "from keras.models import load_model\n",
    "from keras.preprocessing import  image\n",
    "from keras.models import model_from_json\n",
    "from keras.applications.vgg16 import preprocess_input\n",
    "import numpy as np\n",
    "from glob import glob\n",
    "import matplotlib.pyplot as plt\n",
    "import pandas as pd\n",
    "import seaborn as sns\n",
    "from sklearn.metrics import classification_report,confusion_matrix\n",
    "from sklearn.metrics import accuracy_score\n",
    "import keras\n",
    "import os"
   ]
  },
  {
   "cell_type": "code",
   "execution_count": 26,
   "metadata": {},
   "outputs": [],
   "source": [
    "model = load_model('model_vgg16.h5')\n",
    "test_folder = os.getcwd() + '\\Datasets'+'\\\\val'"
   ]
  },
  {
   "cell_type": "code",
   "execution_count": 27,
   "metadata": {},
   "outputs": [],
   "source": [
    "def folderEncoder(folderName):\n",
    "    if folderName=='COVID':\n",
    "        return 0\n",
    "    elif folderName==\"NORMAL\":\n",
    "        return 1\n",
    "    elif folderName=='PNEUMONIA':\n",
    "        return 2\n",
    "    else:\n",
    "        return None"
   ]
  },
  {
   "cell_type": "code",
   "execution_count": 28,
   "metadata": {},
   "outputs": [
    {
     "name": "stdout",
     "output_type": "stream",
     "text": [
      "              precision    recall  f1-score   support\n",
      "\n",
      "       COVID       1.00      1.00      1.00         8\n",
      "      NORMAL       0.94      0.83      0.88        18\n",
      "   PNEUMONIA       0.70      0.88      0.78         8\n",
      "\n",
      "    accuracy                           0.88        34\n",
      "   macro avg       0.88      0.90      0.89        34\n",
      "weighted avg       0.90      0.88      0.89        34\n",
      "\n"
     ]
    },
    {
     "data": {
      "image/png": "[encoded data removed]",
      "text/plain": [
       "<Figure size 432x288 with 2 Axes>"
      ]
     },
     "metadata": {
      "needs_background": "light"
     },
     "output_type": "display_data"
    }
   ],
   "source": [
    "result=[]\n",
    "for folder1 in os.listdir(test_folder):\n",
    "    y_true=folderEncoder(folder1)\n",
    "    for filename in os.listdir(os.path.join(test_folder,folder1)):\n",
    "#         print(filename)\n",
    "        img = image.load_img(os.path.join(os.path.join(test_folder,folder1),filename), target_size=(224, 224))\n",
    "        x = image.img_to_array(img)\n",
    "#         x = x / 255\n",
    "        x = np.expand_dims(x, axis=0)\n",
    "        img_data = preprocess_input(x)\n",
    "        y_pred=model.predict(img_data)\n",
    "#         y_pred=loaded_model.predict(img_data)\n",
    "        y_pred=np.argmax(y_pred, axis=1)\n",
    "        result.append([y_true,y_pred[0]])\n",
    "\n",
    "y_pred=y_true=[] #empty list for placeholder\n",
    "\n",
    "y_true=[y[0] for y in result] # separating true classes\n",
    "y_pred=[y[1] for y in result] # separating predicted classes\n",
    "# print(y_true,y_pred)\n",
    "\n",
    "target_classes = ['COVID','NORMAL','PNEUMONIA'] \n",
    "\n",
    "print(classification_report(y_true, y_pred, target_names=target_classes))\n",
    "# print(accuracy_score(y_true, y_pred))\n",
    "\n",
    "\n",
    "cm = pd.DataFrame(data=confusion_matrix(y_true, y_pred, labels=[0, 1, 2]),index=[\"Actual Covid\",\"Actual Normal\", \"Actual Pneumonia\"],\n",
    "columns=[\"Predicted Covid\",\"Predicted Normal\", \"Predicted Pneumonia\"])\n",
    "sns_plot = sns.heatmap(cm,annot=True,fmt=\"d\",annot_kws={'size': 15})\n",
    "plt.xticks(rotation=0)\n",
    "plt.yticks(fontsize = 8)\n",
    "plt.show()\n",
    "sns_plot.figure.savefig(\"output.png\")"
   ]
  },
  {
   "cell_type": "code",
   "execution_count": 29,
   "metadata": {},
   "outputs": [],
   "source": [
    "import tensorflow as tf\n",
    "from keras.models import load_model\n",
    "from keras.applications.vgg16 import preprocess_input\n",
    "from keras.preprocessing import image\n",
    "import numpy as np\n",
    "import os\n",
    "import matplotlib.pyplot as plt #For Visualization\n",
    "import pandas as pd             # For handling data"
   ]
  },
  {
   "cell_type": "code",
   "execution_count": 30,
   "metadata": {},
   "outputs": [
    {
     "name": "stdout",
     "output_type": "stream",
     "text": [
      "------------------------COVID-------------------------\n",
      "COVID [[1.000000e+00 0.000000e+00 1.652179e-21]] 270_2020_2470_Fig1_HTML-b.png\n",
      "COVID [[1.000000e+00 0.000000e+00 4.312102e-23]] 296_2020_4584_Fig2_HTML-a.png\n",
      "COVID [[1. 0. 0.]] 296_2020_4584_Fig2_HTML-b.png\n",
      "COVID [[1.000000e+00 0.000000e+00 4.516998e-21]] 296_2020_4584_Fig2_HTML-c.png\n",
      "COVID [[1. 0. 0.]] 396A81A5-982C-44E9-A57E-9B1DC34E2C08.jpeg\n",
      "COVID [[1.0000000e+00 1.2362209e-30 2.3093561e-20]] 436a6348.jpg\n",
      "COVID [[1.0000000e+00 3.5757056e-37 7.6965913e-18]] 441c9cdd.jpg\n",
      "COVID [[1.000000e+00 0.000000e+00 2.660632e-33]] 446B2CB6-B572-40AB-B01F-1910CA07086A.jpeg\n",
      "------------------------NORMAL-------------------------\n",
      "NORMAL [[0. 1. 0.]] IM-0119-0001 (1).jpeg\n",
      "NORMAL [[0. 1. 0.]] IM-0119-0001.jpeg\n",
      "NORMAL [[0. 1. 0.]] IM-0122-0001 (1).jpeg\n",
      "NORMAL [[0. 1. 0.]] IM-0122-0001.jpeg\n",
      "NORMAL [[0.000000e+00 1.000000e+00 3.382393e-20]] IM-0125-0001 (1).jpeg\n",
      "NORMAL [[0.000000e+00 1.000000e+00 3.382393e-20]] IM-0125-0001.jpeg\n",
      "NORMAL [[0. 1. 0.]] IM-0127-0001 (1).jpeg\n",
      "NORMAL [[0. 1. 0.]] IM-0127-0001.jpeg\n",
      "NORMAL [[0. 1. 0.]] IM-0128-0001 (1).jpeg\n",
      "NORMAL [[0. 1. 0.]] IM-0128-0001.jpeg\n",
      "NORMAL [[0. 1. 0.]] NORMAL2-IM-1427-0001.jpeg\n",
      "NORMAL [[0.0000000e+00 1.0000000e+00 4.7814778e-32]] NORMAL2-IM-1430-0001.jpeg\n",
      "NORMAL [[0. 1. 0.]] NORMAL2-IM-1431-0001.jpeg\n",
      "NORMAL [[0. 1. 0.]] NORMAL2-IM-1436-0001.jpeg\n",
      "NORMAL [[0. 1. 0.]] NORMAL2-IM-1437-0001.jpeg\n",
      "PNEUMONIA [[0.000000e+00 3.388742e-23 1.000000e+00]] NORMAL2-IM-1438-0001.jpeg\n",
      "PNEUMONIA [[0.0000000e+00 5.2217167e-19 1.0000000e+00]] NORMAL2-IM-1440-0001.jpeg\n",
      "PNEUMONIA [[0.0000000e+00 3.3410125e-34 1.0000000e+00]] NORMAL2-IM-1442-0001.jpeg\n",
      "------------------------PNEUMONIA-------------------------\n",
      "PNEUMONIA [[0. 0. 1.]] person1946_bacteria_4874.jpeg\n",
      "PNEUMONIA [[0. 0. 1.]] person1946_bacteria_4875.jpeg\n",
      "PNEUMONIA [[0. 0. 1.]] person1947_bacteria_4876.jpeg\n",
      "PNEUMONIA [[0.000000e+00 3.703713e-26 1.000000e+00]] person1949_bacteria_4880.jpeg\n",
      "PNEUMONIA [[0. 0. 1.]] person1950_bacteria_4881.jpeg\n",
      "PNEUMONIA [[0. 0. 1.]] person1951_bacteria_4882.jpeg\n",
      "PNEUMONIA [[0. 0. 1.]] person1952_bacteria_4883.jpeg\n",
      "NORMAL [[0.0000000e+00 1.0000000e+00 2.6376552e-23]] person1954_bacteria_4886.jpeg\n"
     ]
    }
   ],
   "source": [
    "model = load_model('model_vgg16.h5')\n",
    "name =['COVID','NORMAL','PNEUMONIA']\n",
    "\n",
    "# results\n",
    "for i in name:\n",
    "    print('------------------------'+str(i)+'-------------------------')\n",
    "    dir1 = os.getcwd()\n",
    "    dir2 = str(dir1) +'\\Datasets'+'\\\\val'+f'\\\\{i}'\n",
    "    dir_arr = os.listdir(dir2)\n",
    "    # print(dir_arr)\n",
    "    for test_image in dir_arr:\n",
    "        test_image1 = str(dir1) +'\\Datasets'+'\\\\val'+f'\\\\{i}\\\\' + str(test_image)\n",
    "        img = image.load_img(test_image1, target_size=(224,224))\n",
    "        x = image.img_to_array(img)\n",
    "        x= np.expand_dims(x, axis=0)\n",
    "        img_data = preprocess_input(x)\n",
    "        classes = model.predict(img_data)\n",
    "        y_pred=np.argmax(classes, axis=1)\n",
    "        prediction = name[y_pred[0]]\n",
    "        print(prediction,classes,test_image)"
   ]
  },
  {
   "cell_type": "code",
   "execution_count": 33,
   "metadata": {},
   "outputs": [
    {
     "name": "stdout",
     "output_type": "stream",
     "text": [
      "COVID [[1. 0. 0.]] covid1.png\n"
     ]
    },
    {
     "data": {
      "image/png": "[encoded data removed]",
      "text/plain": [
       "<Figure size 432x288 with 1 Axes>"
      ]
     },
     "metadata": {
      "needs_background": "light"
     },
     "output_type": "display_data"
    }
   ],
   "source": [
    "import cv2\n",
    "import matplotlib.pyplot as plt\n",
    "\n",
    "model = load_model('model_vgg16.h5')\n",
    "name =['COVID','NORMAL','PNEUMONIA']\n",
    "\n",
    "test_image='covid1.png'\n",
    "output_image='output_image.png'\n",
    "test_image1 = str(test_image)\n",
    "\n",
    "#Prediction\n",
    "img = image.load_img(test_image1, target_size=(224,224))\n",
    "x = image.img_to_array(img)\n",
    "x= np.expand_dims(x, axis=0)\n",
    "img_data = preprocess_input(x)\n",
    "classes = model.predict(img_data)\n",
    "y_pred=np.argmax(classes, axis=1)\n",
    "prediction = name[y_pred[0]]\n",
    "print(prediction,classes,test_image)\n",
    "\n",
    "#show image\n",
    "im = cv2.imread(test_image)\n",
    "im_resized = cv2.resize(im, (224, 224), interpolation=cv2.INTER_LINEAR)\n",
    "label_position = (15,20)\n",
    "cv2.putText(im_resized,prediction,label_position,cv2.FONT_HERSHEY_SIMPLEX,0.75,(0,255,0),2)\n",
    "cv2.imwrite(output_image,im_resized)\n",
    "plt.imshow(cv2.cvtColor(im_resized, cv2.COLOR_BGR2RGB))\n",
    "plt.show()\n"
   ]
  }
 ],
 "metadata": {
  "kernelspec": {
   "display_name": "Python 3",
   "language": "python",
   "name": "python3"
  },
  "language_info": {
   "codemirror_mode": {
    "name": "ipython",
    "version": 3
   },
   "file_extension": ".py",
   "mimetype": "text/x-python",
   "name": "python",
   "nbconvert_exporter": "python",
   "pygments_lexer": "ipython3",
   "version": "3.8.5"
  }
 },
 "nbformat": 4,
 "nbformat_minor": 4
}
